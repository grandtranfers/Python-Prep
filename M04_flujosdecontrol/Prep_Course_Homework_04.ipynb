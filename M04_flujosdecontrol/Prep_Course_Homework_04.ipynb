{
 "cells": [
  {
   "attachments": {},
   "cell_type": "markdown",
   "metadata": {},
   "source": [
    "## Flujos de Control"
   ]
  },
  {
   "attachments": {},
   "cell_type": "markdown",
   "metadata": {},
   "source": [
    "1) Crear una variable que contenga un elemento del conjunto de números enteros y luego imprimir por pantalla si es mayor o menor a cero"
   ]
  },
  {
   "cell_type": "code",
   "execution_count": 4,
   "metadata": {},
   "outputs": [
    {
     "name": "stdout",
     "output_type": "stream",
     "text": [
      "El numero es mayor que cero\n"
     ]
    }
   ],
   "source": [
    "var_numero=125\n",
    "if var_numero>0 :\n",
    "    print(\"El numero es mayor que cero\")\n",
    "else :\n",
    "    print(\"El numero es menor que cero\")"
   ]
  },
  {
   "attachments": {},
   "cell_type": "markdown",
   "metadata": {},
   "source": [
    "2) Crear dos variables y un condicional que informe si son del mismo tipo de dato"
   ]
  },
  {
   "cell_type": "code",
   "execution_count": 6,
   "metadata": {},
   "outputs": [
    {
     "name": "stdout",
     "output_type": "stream",
     "text": [
      "Ambas variable tienen distinto tipo de datos\n"
     ]
    }
   ],
   "source": [
    "var1 ='123'\n",
    "var2 = 123\n",
    "if type(var1)==type(var2):\n",
    "    print(\"Ambas variable tienen el mismo tipo de datos\")\n",
    "else :\n",
    "    print(\"Ambas variable tienen distinto tipo de datos\")"
   ]
  },
  {
   "attachments": {},
   "cell_type": "markdown",
   "metadata": {},
   "source": [
    "3) Para los valores enteros del 1 al 20, imprimir por pantalla si es par o impar"
   ]
  },
  {
   "cell_type": "code",
   "execution_count": 10,
   "metadata": {},
   "outputs": [
    {
     "name": "stdout",
     "output_type": "stream",
     "text": [
      "1 es impar\n",
      "2 es par\n",
      "3 es impar\n",
      "4 es par\n",
      "5 es impar\n",
      "6 es par\n",
      "7 es impar\n",
      "8 es par\n",
      "9 es impar\n",
      "10 es par\n",
      "11 es impar\n",
      "12 es par\n",
      "13 es impar\n",
      "14 es par\n",
      "15 es impar\n",
      "16 es par\n",
      "17 es impar\n",
      "18 es par\n",
      "19 es impar\n",
      "20 es par\n"
     ]
    }
   ],
   "source": [
    "for i in range(1,21):\n",
    "    if i % 2 == 0:\n",
    "        print(f\"{i} es par\")\n",
    "    else:\n",
    "        print(f\"{i} es impar\")"
   ]
  },
  {
   "attachments": {},
   "cell_type": "markdown",
   "metadata": {},
   "source": [
    "4) En un ciclo for mostrar para los valores entre 0 y 5 el resultado de elevarlo a la potencia igual a 3"
   ]
  },
  {
   "cell_type": "code",
   "execution_count": 18,
   "metadata": {},
   "outputs": [
    {
     "name": "stdout",
     "output_type": "stream",
     "text": [
      "0 al cubo es: 0\n",
      "1 al cubo es: 1\n",
      "2 al cubo es: 8\n",
      "3 al cubo es: 27\n",
      "4 al cubo es: 64\n",
      "5 al cubo es: 125\n"
     ]
    }
   ],
   "source": [
    "for i in range(0,6):\n",
    "        print(f\"{i} al cubo es: {i**3}\")\n",
    "    "
   ]
  },
  {
   "attachments": {},
   "cell_type": "markdown",
   "metadata": {},
   "source": [
    "5) Crear una variable que contenga un número entero y realizar un ciclo for la misma cantidad de ciclos"
   ]
  },
  {
   "cell_type": "code",
   "execution_count": 19,
   "metadata": {},
   "outputs": [
    {
     "name": "stdout",
     "output_type": "stream",
     "text": [
      "Este es el ciclo número 1\n",
      "Este es el ciclo número 2\n",
      "Este es el ciclo número 3\n",
      "Este es el ciclo número 4\n",
      "Este es el ciclo número 5\n"
     ]
    }
   ],
   "source": [
    "# Crear una variable con un número entero\n",
    "cantidad_ciclos = 5  # Puedes cambiar este valor por cualquier otro entero\n",
    "\n",
    "# Ciclo for que se ejecutará la cantidad de veces especificada en la variable\n",
    "for i in range(cantidad_ciclos):\n",
    "    print(f\"Este es el ciclo número {i + 1}\")"
   ]
  },
  {
   "attachments": {},
   "cell_type": "markdown",
   "metadata": {},
   "source": [
    "6) Utilizar un ciclo while para realizar el factorial de un número guardado en una variable, sólo si la variable contiene un número entero mayor a 0"
   ]
  },
  {
   "cell_type": "code",
   "execution_count": 20,
   "metadata": {},
   "outputs": [
    {
     "name": "stdout",
     "output_type": "stream",
     "text": [
      "El factorial de 5 es: 120\n"
     ]
    }
   ],
   "source": [
    "# Variable que contiene el número\n",
    "numero = 5  # Puedes cambiar este valor por cualquier otro número entero\n",
    "\n",
    "# Verificar si el número es mayor que 0\n",
    "if numero > 0:\n",
    "    # Inicializar el factorial\n",
    "    factorial = 1\n",
    "    # Inicializar el contador\n",
    "    contador = 1\n",
    "    # Calcular el factorial usando un ciclo while\n",
    "    while contador <= numero:\n",
    "        factorial *= contador\n",
    "        contador += 1\n",
    "    # Imprimir el resultado\n",
    "    print(f\"El factorial de {numero} es: {factorial}\")\n",
    "else:\n",
    "    print(\"El número no es un entero mayor que 0\")"
   ]
  },
  {
   "attachments": {},
   "cell_type": "markdown",
   "metadata": {},
   "source": [
    "7) Crear un ciclo for dentro de un ciclo while"
   ]
  },
  {
   "cell_type": "code",
   "execution_count": 21,
   "metadata": {},
   "outputs": [
    {
     "name": "stdout",
     "output_type": "stream",
     "text": [
      "Comienzo del ciclo 1\n",
      "Iteración 1 del ciclo 1\n",
      "Iteración 2 del ciclo 1\n",
      "Iteración 3 del ciclo 1\n",
      "Fin del ciclo 1\n",
      "Comienzo del ciclo 2\n",
      "Iteración 1 del ciclo 2\n",
      "Iteración 2 del ciclo 2\n",
      "Iteración 3 del ciclo 2\n",
      "Fin del ciclo 2\n",
      "Comienzo del ciclo 3\n",
      "Iteración 1 del ciclo 3\n",
      "Iteración 2 del ciclo 3\n",
      "Iteración 3 del ciclo 3\n",
      "Fin del ciclo 3\n",
      "Fin del programa\n"
     ]
    }
   ],
   "source": [
    "# Inicializar una variable\n",
    "contador = 0\n",
    "\n",
    "# Ciclo while principal\n",
    "while contador < 3:\n",
    "    print(f'Comienzo del ciclo {contador + 1}')\n",
    "    \n",
    "    # Ciclo for dentro del ciclo while\n",
    "    for i in range(1, 4):\n",
    "        print(f'Iteración {i} del ciclo {contador + 1}')\n",
    "    \n",
    "    print(f'Fin del ciclo {contador + 1}')\n",
    "    contador += 1\n",
    "\n",
    "print('Fin del programa')"
   ]
  },
  {
   "attachments": {},
   "cell_type": "markdown",
   "metadata": {},
   "source": [
    "8) Crear un ciclo while dentro de un ciclo for"
   ]
  },
  {
   "cell_type": "code",
   "execution_count": 23,
   "metadata": {},
   "outputs": [
    {
     "name": "stdout",
     "output_type": "stream",
     "text": [
      "Comienzo del ciclo 1\n",
      "Iteración 1 del ciclo 1\n",
      "Iteración 2 del ciclo 1\n",
      "Iteración 3 del ciclo 1\n",
      "Fin del ciclo 1\n",
      "Comienzo del ciclo 2\n",
      "Iteración 1 del ciclo 2\n",
      "Iteración 2 del ciclo 2\n",
      "Iteración 3 del ciclo 2\n",
      "Fin del ciclo 2\n",
      "Comienzo del ciclo 3\n",
      "Iteración 1 del ciclo 3\n",
      "Iteración 2 del ciclo 3\n",
      "Iteración 3 del ciclo 3\n",
      "Fin del ciclo 3\n",
      "Fin del programa\n"
     ]
    }
   ],
   "source": [
    "# Ciclo for principal\n",
    "for i in range(1, 4):\n",
    "    print(f'Comienzo del ciclo {i}')\n",
    "    \n",
    "    # Inicializar una variable dentro del ciclo for\n",
    "    contador = 0\n",
    "    \n",
    "    # Ciclo while dentro del ciclo for\n",
    "    while contador < 3:\n",
    "        print(f'Iteración {contador + 1} del ciclo {i}')\n",
    "        contador += 1\n",
    "    \n",
    "    print(f'Fin del ciclo {i}')\n",
    "\n",
    "print('Fin del programa')"
   ]
  },
  {
   "attachments": {},
   "cell_type": "markdown",
   "metadata": {},
   "source": [
    "9) Imprimir los números primos existentes entre 0 y 30"
   ]
  },
  {
   "cell_type": "code",
   "execution_count": 25,
   "metadata": {},
   "outputs": [
    {
     "name": "stdout",
     "output_type": "stream",
     "text": [
      "Números primos entre 0 y 30:\n",
      "2\n",
      "3\n",
      "5\n",
      "7\n",
      "11\n",
      "13\n",
      "17\n",
      "19\n",
      "23\n",
      "29\n"
     ]
    }
   ],
   "source": [
    "# Función para verificar si un número es primo\n",
    "def es_primo(num):\n",
    "    if num <= 1:\n",
    "        return False\n",
    "    for i in range(2, int(num**0.5) + 1):\n",
    "        if num % i == 0:\n",
    "            return False\n",
    "    return True\n",
    "\n",
    "# Imprimir números primos entre 0 y 30\n",
    "print(\"Números primos entre 0 y 30:\")\n",
    "for num in range(31):\n",
    "    if es_primo(num):\n",
    "        print(num)\n"
   ]
  },
  {
   "attachments": {},
   "cell_type": "markdown",
   "metadata": {},
   "source": [
    "10) ¿Se puede mejorar el proceso del punto 9? Utilizar las sentencias break y/ó continue para tal fin"
   ]
  },
  {
   "cell_type": "code",
   "execution_count": 26,
   "metadata": {},
   "outputs": [
    {
     "name": "stdout",
     "output_type": "stream",
     "text": [
      "Números primos entre 0 y 30:\n",
      "2\n",
      "3\n",
      "5\n",
      "7\n",
      "11\n",
      "13\n",
      "17\n",
      "19\n",
      "23\n",
      "29\n"
     ]
    }
   ],
   "source": [
    "# Función para verificar si un número es primo\n",
    "def es_primo(num):\n",
    "    if num <= 1:\n",
    "        return False\n",
    "    for i in range(2, int(num**0.5) + 1):\n",
    "        if num % i == 0:\n",
    "            return False\n",
    "    return True\n",
    "\n",
    "# Imprimir números primos entre 0 y 30\n",
    "print(\"Números primos entre 0 y 30:\")\n",
    "for num in range(2, 31):  # Empezamos desde 2 porque 0 y 1 no son primos\n",
    "    if es_primo(num):\n",
    "        print(num)"
   ]
  },
  {
   "attachments": {},
   "cell_type": "markdown",
   "metadata": {},
   "source": [
    "11) En los puntos 9 y 10, se diseño un código que encuentra números primos y además se lo optimizó. ¿Es posible saber en qué medida se optimizó?"
   ]
  },
  {
   "cell_type": "code",
   "execution_count": null,
   "metadata": {},
   "outputs": [],
   "source": []
  },
  {
   "attachments": {},
   "cell_type": "markdown",
   "metadata": {},
   "source": [
    "12) Aplicando continue, armar un ciclo while que solo imprima los valores divisibles por 12, dentro del rango de números de 100 a 300"
   ]
  },
  {
   "cell_type": "code",
   "execution_count": 27,
   "metadata": {},
   "outputs": [
    {
     "name": "stdout",
     "output_type": "stream",
     "text": [
      "108\n",
      "120\n",
      "132\n",
      "144\n",
      "156\n",
      "168\n",
      "180\n",
      "192\n",
      "204\n",
      "216\n",
      "228\n",
      "240\n",
      "252\n",
      "264\n",
      "276\n",
      "288\n",
      "300\n"
     ]
    }
   ],
   "source": [
    "# Inicializar el número inicial\n",
    "numero = 100\n",
    "\n",
    "# Ciclo while para iterar sobre el rango de números\n",
    "while numero <= 300:\n",
    "    # Verificar si el número es divisible por 12\n",
    "    if numero % 12 != 0:\n",
    "        # Si no es divisible por 12, pasar al siguiente número\n",
    "        numero += 1\n",
    "        continue\n",
    "    \n",
    "    # Si es divisible por 12, imprimirlo\n",
    "    print(numero)\n",
    "    \n",
    "    # Incrementar el número para pasar al siguiente\n",
    "    numero += 1"
   ]
  },
  {
   "attachments": {},
   "cell_type": "markdown",
   "metadata": {},
   "source": [
    "13) Utilizar la función **input()** que permite hacer ingresos por teclado, para encontrar números primos y dar la opción al usario de buscar el siguiente"
   ]
  },
  {
   "cell_type": "code",
   "execution_count": 28,
   "metadata": {},
   "outputs": [
    {
     "name": "stdout",
     "output_type": "stream",
     "text": [
      "El siguiente número primo después de 125 es: 127\n",
      "El siguiente número primo después de 423 es: 431\n",
      "El siguiente número primo después de 423 es: 431\n",
      "El siguiente número primo después de 478 es: 479\n",
      "El siguiente número primo después de 147 es: 149\n",
      "El siguiente número primo después de 144 es: 149\n",
      "¡Adiós!\n"
     ]
    }
   ],
   "source": [
    "def es_primo(num):\n",
    "    if num <= 1:\n",
    "        return False\n",
    "    for i in range(2, int(num**0.5) + 1):\n",
    "        if num % i == 0:\n",
    "            return False\n",
    "    return True\n",
    "\n",
    "def encontrar_siguiente_primo(num):\n",
    "    siguiente = num + 1\n",
    "    while True:\n",
    "        if es_primo(siguiente):\n",
    "            return siguiente\n",
    "        siguiente += 1\n",
    "\n",
    "while True:\n",
    "    entrada = input(\"Ingresa un número entero (o 'q' para salir): \")\n",
    "    if entrada.lower() == 'q':\n",
    "        print(\"¡Adiós!\")\n",
    "        break\n",
    "    try:\n",
    "        numero = int(entrada)\n",
    "        siguiente_primo = encontrar_siguiente_primo(numero)\n",
    "        print(f\"El siguiente número primo después de {numero} es: {siguiente_primo}\")\n",
    "    except ValueError:\n",
    "        print(\"Por favor, ingresa un número entero válido.\")"
   ]
  },
  {
   "attachments": {},
   "cell_type": "markdown",
   "metadata": {},
   "source": [
    "14) Crear un ciclo while que encuentre dentro del rango de 100 a 300 el primer número divisible por 3 y además múltiplo de 6"
   ]
  },
  {
   "cell_type": "code",
   "execution_count": 29,
   "metadata": {},
   "outputs": [
    {
     "name": "stdout",
     "output_type": "stream",
     "text": [
      "El primer número divisible por 3 y múltiplo de 6 en el rango de 100 a 300 es: 102\n"
     ]
    }
   ],
   "source": [
    "numero = 100\n",
    "\n",
    "while numero <= 300:\n",
    "    if numero % 3 == 0 and numero % 6 == 0:\n",
    "        print(f\"El primer número divisible por 3 y múltiplo de 6 en el rango de 100 a 300 es: {numero}\")\n",
    "        break\n",
    "    numero += 1"
   ]
  }
 ],
 "metadata": {
  "interpreter": {
   "hash": "c85384e4cb51c8b72350f3a8712cc8351fdc3955e32a27f9b60c6242ab125f01"
  },
  "kernelspec": {
   "display_name": "Python 3 (ipykernel)",
   "language": "python",
   "name": "python3"
  },
  "language_info": {
   "codemirror_mode": {
    "name": "ipython",
    "version": 3
   },
   "file_extension": ".py",
   "mimetype": "text/x-python",
   "name": "python",
   "nbconvert_exporter": "python",
   "pygments_lexer": "ipython3",
   "version": "3.12.2"
  }
 },
 "nbformat": 4,
 "nbformat_minor": 4
}
